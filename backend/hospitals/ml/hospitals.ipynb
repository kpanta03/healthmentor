{
 "cells": [
  {
   "cell_type": "code",
   "execution_count": null,
   "id": "eeb3d229",
   "metadata": {},
   "outputs": [
    {
     "name": "stdout",
     "output_type": "stream",
     "text": [
      "CSV downloaded: hospitals.csv\n"
     ]
    }
   ],
   "source": [
    "import requests\n",
    "import pandas as pd\n",
    "\n",
    "# Overpass API endpoint\n",
    "overpass_url = \"https://overpass-api.de/api/interpreter\"\n",
    "\n",
    "overpass_query = \"\"\"\n",
    "[out:json][timeout:50];\n",
    "(\n",
    "  node[\"amenity\"=\"hospital\"](27.55,85.20,27.85,85.55);\n",
    "  way[\"amenity\"=\"hospital\"](27.55,85.20,27.85,85.55);\n",
    "  relation[\"amenity\"=\"hospital\"](27.55,85.20,27.85,85.55);\n",
    ");\n",
    "out center;\n",
    "\"\"\"\n",
    "\n",
    "response = requests.post(overpass_url, data=overpass_query)\n",
    "data = response.json()\n",
    "\n",
    "hospitals = []\n",
    "for element in data['elements']:\n",
    "    tags = element.get(\"tags\", {})\n",
    "    \n",
    "    hosp = {\n",
    "        \"id\": element[\"id\"],\n",
    "        \"type\": element[\"type\"],\n",
    "        \"name\": tags.get(\"name\", \"\"),\n",
    "        \"lat\": element.get(\"lat\", element.get(\"center\", {}).get(\"lat\", \"\")),\n",
    "        \"lon\": element.get(\"lon\", element.get(\"center\", {}).get(\"lon\", \"\")),\n",
    "        \"address\": tags.get(\"addr:full\", tags.get(\"addr:street\", \"\")),\n",
    "        \"speciality\": tags.get(\"healthcare:speciality\", \"\"),\n",
    "        \"emergency\": tags.get(\"emergency\", \"\"),\n",
    "        \"icu\": tags.get(\"facility:icu\", \"\"),\n",
    "        \"operating_theatre\": tags.get(\"facility:operating_theatre\", \"\"),\n",
    "        \"ventilator\": tags.get(\"facility:ventilator\", \"\"),\n",
    "        \"x_ray\": tags.get(\"facility:x-ray\", \"\"),\n",
    "        \"opening_hours\": tags.get(\"opening_hours\", \"\"),\n",
    "        \"website\": tags.get(\"website\", \"\"),\n",
    "        \"phone\": tags.get(\"phone\", tags.get(\"contact:phone\", \"\")),\n",
    "    }\n",
    "    \n",
    "    hospitals.append(hosp)\n",
    "\n",
    "# Convert to DataFrame\n",
    "df = pd.DataFrame(hospitals)\n",
    "\n",
    "# Save as CSV\n",
    "df.to_csv(\"hospitals.csv\", index=False)\n",
    "\n",
    "print(\"CSV downloaded: hospitals.csv\")\n"
   ]
  },
  {
   "cell_type": "code",
   "execution_count": 3,
   "id": "202010b2",
   "metadata": {},
   "outputs": [
    {
     "name": "stdout",
     "output_type": "stream",
     "text": [
      "Original Shape: (301, 15)\n",
      "Columns: ['id', 'type', 'name', 'lat', 'lon', 'address', 'speciality', 'emergency', 'icu', 'operating_theatre', 'ventilator', 'x_ray', 'opening_hours', 'website', 'phone']\n",
      "Modified data saved to 'hospitals_modified.csv'\n"
     ]
    }
   ],
   "source": [
    "import pandas as pd\n",
    "df=pd.read_csv(\"hospitals.csv\")\n",
    "print(\"Original Shape:\", df.shape)\n",
    "print(\"Columns:\", df.columns.tolist())\n",
    "if \"type\" in df.columns:\n",
    "    df = df.drop(columns=[\"type\"])\n",
    "df = df.dropna(subset=[\"name\"])\n",
    "\n",
    "for col in [\"emergency\",\"icu\", \"operating_theatre\", \"ventilator\", \"x_ray\"]:\n",
    "    if col in df.columns:\n",
    "        df[col] = df[col].fillna(\"yes\")\n",
    "if \"opening_hours\" in df.columns:\n",
    "    df[\"opening_hours\"] = df[\"opening_hours\"].fillna(\"24/7\")\n",
    "\n",
    "df\n",
    "df.to_csv(\"hospitals_modified.csv\", index=False)\n",
    "print(\"Modified data saved to 'hospitals_modified.csv'\")\n"
   ]
  }
 ],
 "metadata": {
  "kernelspec": {
   "display_name": "venv",
   "language": "python",
   "name": "python3"
  },
  "language_info": {
   "codemirror_mode": {
    "name": "ipython",
    "version": 3
   },
   "file_extension": ".py",
   "mimetype": "text/x-python",
   "name": "python",
   "nbconvert_exporter": "python",
   "pygments_lexer": "ipython3",
   "version": "3.12.2"
  }
 },
 "nbformat": 4,
 "nbformat_minor": 5
}
